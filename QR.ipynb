{
 "cells": [
  {
   "cell_type": "code",
   "execution_count": 1,
   "metadata": {},
   "outputs": [
    {
     "data": {
      "text/plain": [
       "house (generic function with 1 method)"
      ]
     },
     "execution_count": 1,
     "metadata": {},
     "output_type": "execute_result"
    }
   ],
   "source": [
    "function house(x)\n",
    "    m = length(x)\n",
    "    σ = x[2:m]'x[2:m]\n",
    "    v = vcat(1, x[2:m])\n",
    "    if σ == 0 && x[1] >= 0\n",
    "        β = 0\n",
    "    elseif σ == 0 && x[1] < 0\n",
    "        β = -2\n",
    "    else\n",
    "        μ = sqrt(x[1]^2 + σ)\n",
    "        if x[1] <= 0\n",
    "            v[1] = x[1] - μ\n",
    "        else\n",
    "            v[1] = -σ/(x[1] - μ)\n",
    "        end\n",
    "        β = 2v[1]^2/(σ + v[1]^2)\n",
    "        v = v/v[1]\n",
    "    end\n",
    "    return v, β\n",
    "end"
   ]
  },
  {
   "cell_type": "code",
   "execution_count": 2,
   "metadata": {},
   "outputs": [
    {
     "data": {
      "text/plain": [
       "givens (generic function with 1 method)"
      ]
     },
     "execution_count": 2,
     "metadata": {},
     "output_type": "execute_result"
    }
   ],
   "source": [
    "function givens(a,b)\n",
    "    if b == 0\n",
    "        c = 1\n",
    "        s = 0\n",
    "    else\n",
    "        if abs(b) > abs(a)\n",
    "            τ = -a/b\n",
    "            s = 1/sqrt(1 + τ^2)\n",
    "            c = s*τ\n",
    "        else\n",
    "            τ = -b/a\n",
    "            c = 1/sqrt(1 + τ^2)\n",
    "            s = c*τ\n",
    "        end\n",
    "    end\n",
    "    return c, s\n",
    "end"
   ]
  },
  {
   "cell_type": "code",
   "execution_count": 3,
   "metadata": {},
   "outputs": [
    {
     "data": {
      "text/plain": [
       "houseQR (generic function with 1 method)"
      ]
     },
     "execution_count": 3,
     "metadata": {},
     "output_type": "execute_result"
    }
   ],
   "source": [
    "function houseQR(A)\n",
    "    m,n = size(A)\n",
    "    for j in 1:n\n",
    "        v, β = house(A[j:m,j])\n",
    "        A[j:m,j:n] = (eye(m-j+1) - β*v*v')*A[j:m,j:n]\n",
    "        if j < m\n",
    "            A[j+1:m,j] = v[2:m-j+1]\n",
    "        end\n",
    "    end\n",
    "    return A\n",
    "end"
   ]
  },
  {
   "cell_type": "code",
   "execution_count": 4,
   "metadata": {},
   "outputs": [
    {
     "data": {
      "text/plain": [
       "getQ (generic function with 1 method)"
      ]
     },
     "execution_count": 4,
     "metadata": {},
     "output_type": "execute_result"
    }
   ],
   "source": [
    "function getQ(A)\n",
    "    n,m = size(A)\n",
    "    Q = eye(m,m)\n",
    "    for j in n:-1:1\n",
    "        v = vcat(1, A[j+1:m,j])\n",
    "        β_j = 2/(1 + sum(A[j+1:m,j].^2))\n",
    "        Q[j:m,j:m] = Q[j:m,j:m] - β_j*v*v'*Q[j:m,j:m]\n",
    "    end\n",
    "    return Q\n",
    "end"
   ]
  },
  {
   "cell_type": "code",
   "execution_count": 5,
   "metadata": {},
   "outputs": [
    {
     "data": {
      "text/plain": [
       "givensQR (generic function with 1 method)"
      ]
     },
     "execution_count": 5,
     "metadata": {},
     "output_type": "execute_result"
    }
   ],
   "source": [
    "function givensQR(A)\n",
    "    m,n = size(A)\n",
    "    for j in 1:n\n",
    "        for i in m:-1:j+1\n",
    "            c,s = givens(A[i-1,j],A[i,j])\n",
    "            A[i-1:i,j:n] = [c -s ; s c] * A[i-1:i,j:n]\n",
    "        end\n",
    "    end\n",
    "    return A\n",
    "end"
   ]
  },
  {
   "cell_type": "code",
   "execution_count": 6,
   "metadata": {},
   "outputs": [
    {
     "data": {
      "text/plain": [
       "cqsQR (generic function with 1 method)"
      ]
     },
     "execution_count": 6,
     "metadata": {},
     "output_type": "execute_result"
    }
   ],
   "source": [
    "function cqsQR(A)\n",
    "    m,n = size(A)\n",
    "    R = zeros(n,n)\n",
    "    Q = zeros(m,n)\n",
    "    R[1,1] = norm(A[:,1],2)\n",
    "    Q[:,1] = A[:,1]/R[1,1]\n",
    "    for k in 2:n\n",
    "        R[1:k-1,k] = Q[1:m,1:k-1]'*A[1:m,k]\n",
    "        z = A[1:m,k] - Q[1:m,1:k-1]*R[1:k-1,k]\n",
    "        R[k,k] = norm(z,2)\n",
    "        Q[1:m,k] = z/R[k,k]\n",
    "    end\n",
    "    return Q, R\n",
    "end"
   ]
  },
  {
   "cell_type": "code",
   "execution_count": 7,
   "metadata": {},
   "outputs": [
    {
     "data": {
      "text/plain": [
       "mgsQR (generic function with 1 method)"
      ]
     },
     "execution_count": 7,
     "metadata": {},
     "output_type": "execute_result"
    }
   ],
   "source": [
    "function mgsQR(A)\n",
    "    m,n = size(A)\n",
    "    for k in 1:n\n",
    "        R[k,k] = norm(A[1:m,k],2)\n",
    "        Q[1:m,k] = A[1:m,k]/R[k,k]\n",
    "        for j in k+1:n\n",
    "            R[k,j] = Q[1:m,k]'*A[1:m,j]\n",
    "            A[1:m,j] = A[1:m,j] - Q[1:m,k]R[k,j]\n",
    "        end\n",
    "    end\n",
    "    return Q, R\n",
    "end"
   ]
  },
  {
   "cell_type": "code",
   "execution_count": null,
   "metadata": {
    "collapsed": true
   },
   "outputs": [],
   "source": []
  }
 ],
 "metadata": {
  "kernelspec": {
   "display_name": "Julia 0.6.0",
   "language": "julia",
   "name": "julia-0.6"
  },
  "language_info": {
   "file_extension": ".jl",
   "mimetype": "application/julia",
   "name": "julia",
   "version": "0.6.0"
  }
 },
 "nbformat": 4,
 "nbformat_minor": 2
}
